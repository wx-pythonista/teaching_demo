{
 "cells": [
  {
   "cell_type": "code",
   "execution_count": 1,
   "metadata": {
    "nbpresent": {
     "id": "c966a13a-2492-45d4-850e-ddb42fc6275e"
    }
   },
   "outputs": [],
   "source": [
    "#set up environment\n",
    "import numpy as np\n",
    "import matplotlib.pyplot as plt\n",
    "from ipywidgets import interactive, fixed, interact_manual,interact\n",
    "import ipywidgets as widget\n",
    "from IPython.display import display\n",
    "%matplotlib inline"
   ]
  },
  {
   "cell_type": "markdown",
   "metadata": {
    "nbpresent": {
     "id": "8ee19c51-f5cb-4992-8cdf-78d41d02b0be"
    },
    "slideshow": {
     "slide_type": "slide"
    }
   },
   "source": [
    "# Hypsometric equation: relating the average temperature in a layer to the thickness of the layer between two pressure surfaces"
   ]
  },
  {
   "cell_type": "markdown",
   "metadata": {
    "nbpresent": {
     "id": "dcad788c-e3c5-4257-bd3d-6ef2778fd7fc"
    },
    "slideshow": {
     "slide_type": "subslide"
    }
   },
   "source": [
    "Here we will define the hypsometric equation, which relates the change in height (\"thickness\") between two pressure levels to the mean temperature within the layer\n",
    "\n",
    "$z_{2}-z_{1}=dz=\\left ( \\frac{R_{d}\\bar{T}}{g_o}{} \\right )ln\\left ( \\frac{p_{1}}{p_{2}} \\right )$"
   ]
  },
  {
   "cell_type": "code",
   "execution_count": 2,
   "metadata": {
    "nbpresent": {
     "id": "12840a0f-8f1f-40e7-b247-51d66bc780b6"
    }
   },
   "outputs": [],
   "source": [
    "def hypsometric(meanT,pbottom,ptop):\n",
    "    '''This function uses the hypsometric equation to calculate dz given\n",
    "    a mean temperature in a pressure layer bounded by  pressure levels (pbottom and ptop)\n",
    "    \n",
    "    input:\n",
    "    ------\n",
    "    meanT: mean temperature (K) in the layer\n",
    "    pbottom: pressure of the bottom level (mb)\n",
    "    ptop: pressure of the top pressure level (mb)\n",
    "    \n",
    "    returns:\n",
    "    --------\n",
    "    dz: the change in height between the pressure levels, or in otherwords,\n",
    "        thickness of the layer in gpm\n",
    "    '''\n",
    "    Rd = 287.06 #dry gas constant, units=J kg−1 K−1\n",
    "    g = 9.81 #gravity, units m/s**2\n",
    "    dz = ((Rd*meanT)/g)*np.log((pbottom/ptop))\n",
    "    return dz"
   ]
  },
  {
   "cell_type": "markdown",
   "metadata": {
    "nbpresent": {
     "id": "a5eeb637-0756-4327-8942-8cdd4dd6ed10"
    },
    "slideshow": {
     "slide_type": "subslide"
    }
   },
   "source": [
    "Let's see how this works! For example, let us define our bottom pressure surface as 1000 mb and our upper pressure as 500 mb. So, we will be solving for the thickness of the 1000-500 mb layer, or in otherwords, the geopotential height difference between the two pressure levels."
   ]
  },
  {
   "cell_type": "code",
   "execution_count": 3,
   "metadata": {
    "nbpresent": {
     "id": "d2bd43ed-6358-4fea-9157-36e06164301f"
    },
    "slideshow": {
     "slide_type": "slide"
    }
   },
   "outputs": [
    {
     "data": {
      "application/vnd.jupyter.widget-view+json": {
       "model_id": "c9ee1e224439469590957d35113ec582",
       "version_major": 2,
       "version_minor": 0
      },
      "text/html": [
       "<p>Failed to display Jupyter Widget of type <code>interactive</code>.</p>\n",
       "<p>\n",
       "  If you're reading this message in the Jupyter Notebook or JupyterLab Notebook, it may mean\n",
       "  that the widgets JavaScript is still loading. If this message persists, it\n",
       "  likely means that the widgets JavaScript library is either not installed or\n",
       "  not enabled. See the <a href=\"https://ipywidgets.readthedocs.io/en/stable/user_install.html\">Jupyter\n",
       "  Widgets Documentation</a> for setup instructions.\n",
       "</p>\n",
       "<p>\n",
       "  If you're reading this message in another frontend (for example, a static\n",
       "  rendering on GitHub or <a href=\"https://nbviewer.jupyter.org/\">NBViewer</a>),\n",
       "  it may mean that your frontend doesn't currently support widgets.\n",
       "</p>\n"
      ],
      "text/plain": [
       "interactive(children=(FloatSlider(value=270.0, description=u'Mean Temperature (K)', max=300.0, min=240.0, step=1.0), Output()), _dom_classes=('widget-interact',))"
      ]
     },
     "metadata": {},
     "output_type": "display_data"
    },
    {
     "data": {
      "text/plain": [
       "<function __main__.plot_dz>"
      ]
     },
     "execution_count": 3,
     "metadata": {},
     "output_type": "execute_result"
    }
   ],
   "source": [
    "def plot_dz(Tmean):\n",
    "    pbottom = 1000.*100. #bottom pressure level,1000 mb to Pa\n",
    "    ptop = 500.*100.  #top pressure level, 500 mb to Pa\n",
    "    dz = hypsometric(Tmean,pbottom,ptop)\n",
    "    fig,ax = plt.subplots(nrows=1,ncols=1,figsize=(8,8))\n",
    "    #plot a bar representing the thickness difference between two pressure surfaces\n",
    "    plt.bar([1],height=dz,width=0.5,color='red',align='center')\n",
    "    plt.ylim(0,7000)\n",
    "    plt.xlim(0,2)\n",
    "    plt.xticks([0,1,2],['','',''])\n",
    "    plt.ylabel('Thickness (m)',fontsize='large')\n",
    "    #plt.title('1000-500 mb Thickness = %0.1f m'%(dz))\n",
    "    ax.annotate(r'$\\Delta{Z}$=%0.1f m'%(dz),xy=(0.8,dz),textcoords='data',fontsize=14)\n",
    "    ax.annotate(r'$\\bar{T}$=%i K'%(Tmean),xy=(0.855,dz/2.),textcoords='data',fontsize=14)\n",
    "    ax.annotate('$p_{2}$=500 mb',xy=(0.4,dz),textcoords='data',fontsize=12)\n",
    "    ax.annotate('$p_{1}$=1000 mb',xy=(0.4,100),textcoords='data',fontsize=12)\n",
    "    \n",
    "    plt.show()\n",
    "    \n",
    "#create the plot with input from the slider    \n",
    "interact(plot_dz,Tmean=widget.FloatSlider(value=270.,min=240.,max=300.,step=1.,description='Mean Temperature (K)'))"
   ]
  },
  {
   "cell_type": "code",
   "execution_count": 4,
   "metadata": {
    "nbpresent": {
     "id": "223b3410-4ef6-4093-8d61-32fccd0caf41"
    },
    "slideshow": {
     "slide_type": "slide"
    }
   },
   "outputs": [
    {
     "data": {
      "application/vnd.jupyter.widget-view+json": {
       "model_id": "f7d88842119143e6bb5773f8d04af830",
       "version_major": 2,
       "version_minor": 0
      },
      "text/html": [
       "<p>Failed to display Jupyter Widget of type <code>interactive</code>.</p>\n",
       "<p>\n",
       "  If you're reading this message in the Jupyter Notebook or JupyterLab Notebook, it may mean\n",
       "  that the widgets JavaScript is still loading. If this message persists, it\n",
       "  likely means that the widgets JavaScript library is either not installed or\n",
       "  not enabled. See the <a href=\"https://ipywidgets.readthedocs.io/en/stable/user_install.html\">Jupyter\n",
       "  Widgets Documentation</a> for setup instructions.\n",
       "</p>\n",
       "<p>\n",
       "  If you're reading this message in another frontend (for example, a static\n",
       "  rendering on GitHub or <a href=\"https://nbviewer.jupyter.org/\">NBViewer</a>),\n",
       "  it may mean that your frontend doesn't currently support widgets.\n",
       "</p>\n"
      ],
      "text/plain": [
       "interactive(children=(FloatSlider(value=270.0, description=u'Column 1 Mean Temperature (K)', max=300.0, min=240.0, step=1.0), FloatSlider(value=270.0, description=u'Column 2 Mean Temperature (K)', max=300.0, min=240.0, step=1.0), Output()), _dom_classes=('widget-interact',))"
      ]
     },
     "metadata": {},
     "output_type": "display_data"
    },
    {
     "data": {
      "text/plain": [
       "<function __main__.plot_dz_2col>"
      ]
     },
     "execution_count": 4,
     "metadata": {},
     "output_type": "execute_result"
    }
   ],
   "source": [
    "def plot_dz_2col(Tmean1,Tmean2):\n",
    "    p1 = 1000.*100. #1000 mb to Pa\n",
    "    p2 = 500.*100.  #500 mb to Pa\n",
    "    dz1 = hypsometric(Tmean1,p1,p2)\n",
    "    dz2 = hypsometric(Tmean2,p1,p2)\n",
    "    delta_dz = np.absolute(dz1-dz2)\n",
    "    #create our bar plot representing thickness between p1 and p2\n",
    "    fig,ax1 = plt.subplots(nrows=1,ncols=1,figsize=(8,8))\n",
    "    bar1 = ax1.bar([1],height=dz1,width=0.5,color='red',align='center',label='column 1')\n",
    "    bar2 = ax1.bar([2],height=dz2,width=0.5,color='blue',align='center',label='column 2')\n",
    "    ax1.plot([1,2],[dz1,dz2],color='k',linestyle='--')\n",
    "    ax1.set_ylim(0,7000)\n",
    "    ax1.set_xlim(0,3)\n",
    "    ax1.set_xticks(np.arange(0,4,1))\n",
    "    ax1.set_xticklabels(['','column 1','column2',''])#np.arange(0,4,1),['','column 1','column2',''])\n",
    "    ax1.set_ylabel('Thickness (m)')\n",
    "    ax1.annotate('$\\Delta(thickness)$= \\n    %.1f m'%delta_dz,xy=(1.15,(dz1+dz2)/2.+80),textcoords='data',fontsize=14,weight='bold')\n",
    "    ax1.annotate('$p_{2}$=500 mb',xy=(0.2,dz1),textcoords='data',fontsize=12)\n",
    "    ax1.annotate('$p_{1}$=1000 mb',xy=(0.2,100),textcoords='data',fontsize=12)\n",
    "    ax1.annotate('$p_{2}$=500 mb',xy=(2.3,dz2),textcoords='data',fontsize=12)\n",
    "    ax1.annotate('$p_{1}$=1000 mb',xy=(2.3,100),textcoords='data',fontsize=12)\n",
    "    ax1.annotate(r'$\\bar{T}$=%i K'%(Tmean1),xy=(0.8,dz1/2.),textcoords='data',fontsize=14)\n",
    "    ax1.annotate(r'$\\bar{T}$=%i K'%(Tmean2),xy=(1.8,dz2/2.),textcoords='data',fontsize=14)\n",
    "    plt.legend()\n",
    "    \n",
    "   \n",
    "    plt.show()\n",
    "    \n",
    "interact(plot_dz_2col,Tmean1=widget.FloatSlider(value=270.,min=240.,max=300.,step=1.,description='Column 1 Mean Temperature (K)'),\n",
    "         Tmean2=widget.FloatSlider(value=270.,min=240.,max=300.,step=1.,description='Column 2 Mean Temperature (K)'))"
   ]
  }
 ],
 "metadata": {
  "celltoolbar": "Slideshow",
  "kernelspec": {
   "display_name": "Python 2",
   "language": "python",
   "name": "python2"
  },
  "language_info": {
   "codemirror_mode": {
    "name": "ipython",
    "version": 2
   },
   "file_extension": ".py",
   "mimetype": "text/x-python",
   "name": "python",
   "nbconvert_exporter": "python",
   "pygments_lexer": "ipython2",
   "version": "2.7.14"
  },
  "nbpresent": {
   "slides": {
    "648b4fc3-1870-4864-9c59-ec3d2ea2245a": {
     "id": "648b4fc3-1870-4864-9c59-ec3d2ea2245a",
     "prev": null,
     "regions": {
      "9e0aff37-5561-45f9-99a3-2203500e2341": {
       "attrs": {
        "height": 0.8,
        "width": 0.8,
        "x": 0.1,
        "y": 0.1
       },
       "content": {
        "cell": "c966a13a-2492-45d4-850e-ddb42fc6275e",
        "part": "whole"
       },
       "id": "9e0aff37-5561-45f9-99a3-2203500e2341"
      }
     }
    },
    "7bdebca3-502e-4b1e-8df4-4cd0f2e5bbde": {
     "id": "7bdebca3-502e-4b1e-8df4-4cd0f2e5bbde",
     "prev": "648b4fc3-1870-4864-9c59-ec3d2ea2245a",
     "regions": {
      "436ed71d-8624-4caf-8c7c-875c1a304abf": {
       "attrs": {
        "height": 0.8,
        "width": 0.8,
        "x": 0.1,
        "y": 0.1
       },
       "content": {
        "cell": "8ee19c51-f5cb-4992-8cdf-78d41d02b0be",
        "part": "whole"
       },
       "id": "436ed71d-8624-4caf-8c7c-875c1a304abf"
      }
     }
    },
    "8332907a-00b6-4359-acdb-810a7b63f33c": {
     "id": "8332907a-00b6-4359-acdb-810a7b63f33c",
     "prev": "7bdebca3-502e-4b1e-8df4-4cd0f2e5bbde",
     "regions": {
      "f4370be3-aa24-40dc-b3c2-4916c0830c5e": {
       "attrs": {
        "height": 0.8,
        "width": 0.8,
        "x": 0.1,
        "y": 0.1
       },
       "content": {
        "cell": "dcad788c-e3c5-4257-bd3d-6ef2778fd7fc",
        "part": "whole"
       },
       "id": "f4370be3-aa24-40dc-b3c2-4916c0830c5e"
      },
      "fd7b6fd4-66f6-4b5a-9670-c70f9d0fc940": {
       "attrs": {
        "height": 0.4,
        "width": 0.8,
        "x": 0.1,
        "y": 0.5
       },
       "content": {
        "cell": "12840a0f-8f1f-40e7-b247-51d66bc780b6",
        "part": "whole"
       },
       "id": "fd7b6fd4-66f6-4b5a-9670-c70f9d0fc940"
      }
     }
    },
    "b725688c-a054-4324-b4f0-824aad60021a": {
     "id": "b725688c-a054-4324-b4f0-824aad60021a",
     "prev": "f6519d9a-52ec-45fc-ba4d-566b157e8a8b",
     "regions": {
      "9ad58398-3223-4323-82f6-19f5310829ee": {
       "attrs": {
        "height": 0.8,
        "width": 0.8,
        "x": 0.1,
        "y": 0.1
       },
       "content": {
        "cell": "223b3410-4ef6-4093-8d61-32fccd0caf41",
        "part": "whole"
       },
       "id": "9ad58398-3223-4323-82f6-19f5310829ee"
      }
     }
    },
    "f6519d9a-52ec-45fc-ba4d-566b157e8a8b": {
     "id": "f6519d9a-52ec-45fc-ba4d-566b157e8a8b",
     "prev": "8332907a-00b6-4359-acdb-810a7b63f33c",
     "regions": {
      "47aa0ceb-9e1f-4820-8b5d-2ac272ff8dc3": {
       "attrs": {
        "height": 0.8,
        "width": 0.8,
        "x": 0.1,
        "y": 0.1
       },
       "content": {
        "cell": "d2bd43ed-6358-4fea-9157-36e06164301f",
        "part": "whole"
       },
       "id": "47aa0ceb-9e1f-4820-8b5d-2ac272ff8dc3"
      }
     }
    }
   },
   "themes": {}
  },
  "widgets": {
   "application/vnd.jupyter.widget-state+json": {
    "state": {
     "1454ecaf12584e6d9f1f8d4ff07c3fc3": {
      "model_module": "@jupyter-widgets/controls",
      "model_module_version": "1.1.0",
      "model_name": "SliderStyleModel",
      "state": {
       "description_width": ""
      }
     },
     "234b10f0e8c746ee9932ac9358980b14": {
      "model_module": "@jupyter-widgets/base",
      "model_module_version": "1.0.0",
      "model_name": "LayoutModel",
      "state": {}
     },
     "2d6f43297199494fb0c75b90f190bf15": {
      "model_module": "@jupyter-widgets/controls",
      "model_module_version": "1.1.0",
      "model_name": "SliderStyleModel",
      "state": {
       "description_width": ""
      }
     },
     "36067397f569489abce1d1b97397a454": {
      "model_module": "@jupyter-widgets/base",
      "model_module_version": "1.0.0",
      "model_name": "LayoutModel",
      "state": {}
     },
     "4eeec3b32c164aef857741d196084c39": {
      "model_module": "@jupyter-widgets/base",
      "model_module_version": "1.0.0",
      "model_name": "LayoutModel",
      "state": {}
     },
     "52512ed10fc04dae9437ac3a683486d0": {
      "model_module": "@jupyter-widgets/controls",
      "model_module_version": "1.1.0",
      "model_name": "FloatSliderModel",
      "state": {
       "description": "Column 2 Mean Temperature (K)",
       "layout": "IPY_MODEL_5a6ebba5d4c04136ab7bc3344eeeaf61",
       "max": 300,
       "min": 240,
       "style": "IPY_MODEL_67ea6008b5dd4151b94d3e7657d0800b",
       "value": 270
      }
     },
     "5a6ebba5d4c04136ab7bc3344eeeaf61": {
      "model_module": "@jupyter-widgets/base",
      "model_module_version": "1.0.0",
      "model_name": "LayoutModel",
      "state": {}
     },
     "67ea6008b5dd4151b94d3e7657d0800b": {
      "model_module": "@jupyter-widgets/controls",
      "model_module_version": "1.1.0",
      "model_name": "SliderStyleModel",
      "state": {
       "description_width": ""
      }
     },
     "7c42d36aa68441bf873ad51700e1c03f": {
      "model_module": "@jupyter-widgets/controls",
      "model_module_version": "1.1.0",
      "model_name": "FloatSliderModel",
      "state": {
       "description": "Mean Temperature (K)",
       "layout": "IPY_MODEL_86afbd1cee80496db2ac2b485785b35b",
       "max": 300,
       "min": 240,
       "style": "IPY_MODEL_1454ecaf12584e6d9f1f8d4ff07c3fc3",
       "value": 270
      }
     },
     "811f472a5c124f4c9bb1c6cf16d000aa": {
      "model_module": "@jupyter-widgets/output",
      "model_module_version": "1.0.0",
      "model_name": "OutputModel",
      "state": {
       "layout": "IPY_MODEL_234b10f0e8c746ee9932ac9358980b14",
       "outputs": [
        {
         "data": {
          "image/png": "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\n",
          "text/plain": "<matplotlib.figure.Figure at 0x2b7c9663ebd0>"
         },
         "metadata": {},
         "output_type": "display_data"
        }
       ]
      }
     },
     "86afbd1cee80496db2ac2b485785b35b": {
      "model_module": "@jupyter-widgets/base",
      "model_module_version": "1.0.0",
      "model_name": "LayoutModel",
      "state": {}
     },
     "c9ee1e224439469590957d35113ec582": {
      "model_module": "@jupyter-widgets/controls",
      "model_module_version": "1.1.0",
      "model_name": "VBoxModel",
      "state": {
       "_dom_classes": [
        "widget-interact"
       ],
       "children": [
        "IPY_MODEL_7c42d36aa68441bf873ad51700e1c03f",
        "IPY_MODEL_e6093d7aaee94cdfb42de056a21c1c5e"
       ],
       "layout": "IPY_MODEL_36067397f569489abce1d1b97397a454"
      }
     },
     "ca15b33c724e4e1394a83b15045a9c6f": {
      "model_module": "@jupyter-widgets/controls",
      "model_module_version": "1.1.0",
      "model_name": "FloatSliderModel",
      "state": {
       "description": "Column 1 Mean Temperature (K)",
       "layout": "IPY_MODEL_4eeec3b32c164aef857741d196084c39",
       "max": 300,
       "min": 240,
       "style": "IPY_MODEL_2d6f43297199494fb0c75b90f190bf15",
       "value": 270
      }
     },
     "d294cebee314436982f8a5cfbb0363d4": {
      "model_module": "@jupyter-widgets/base",
      "model_module_version": "1.0.0",
      "model_name": "LayoutModel",
      "state": {}
     },
     "e6093d7aaee94cdfb42de056a21c1c5e": {
      "model_module": "@jupyter-widgets/output",
      "model_module_version": "1.0.0",
      "model_name": "OutputModel",
      "state": {
       "layout": "IPY_MODEL_e6e18881050841d292d30a814adfd497",
       "outputs": [
        {
         "data": {
          "image/png": "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\n",
          "text/plain": "<matplotlib.figure.Figure at 0x2b7c96587150>"
         },
         "metadata": {},
         "output_type": "display_data"
        }
       ]
      }
     },
     "e6e18881050841d292d30a814adfd497": {
      "model_module": "@jupyter-widgets/base",
      "model_module_version": "1.0.0",
      "model_name": "LayoutModel",
      "state": {}
     },
     "f7d88842119143e6bb5773f8d04af830": {
      "model_module": "@jupyter-widgets/controls",
      "model_module_version": "1.1.0",
      "model_name": "VBoxModel",
      "state": {
       "_dom_classes": [
        "widget-interact"
       ],
       "children": [
        "IPY_MODEL_ca15b33c724e4e1394a83b15045a9c6f",
        "IPY_MODEL_52512ed10fc04dae9437ac3a683486d0",
        "IPY_MODEL_811f472a5c124f4c9bb1c6cf16d000aa"
       ],
       "layout": "IPY_MODEL_d294cebee314436982f8a5cfbb0363d4"
      }
     }
    },
    "version_major": 2,
    "version_minor": 0
   }
  }
 },
 "nbformat": 4,
 "nbformat_minor": 2
}
